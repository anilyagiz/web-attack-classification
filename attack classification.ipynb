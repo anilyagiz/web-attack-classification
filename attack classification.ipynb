{
 "cells": [
  {
   "cell_type": "code",
   "execution_count": 1,
   "id": "2ac16a44",
   "metadata": {
    "_cell_guid": "b1076dfc-b9ad-4769-8c92-a6c4dae69d19",
    "_uuid": "8f2839f25d086af736a60e9eeb907d3b93b6e0e5",
    "execution": {
     "iopub.execute_input": "2023-09-23T14:05:48.691987Z",
     "iopub.status.busy": "2023-09-23T14:05:48.691282Z",
     "iopub.status.idle": "2023-09-23T14:06:00.045552Z",
     "shell.execute_reply": "2023-09-23T14:06:00.044355Z"
    },
    "papermill": {
     "duration": 11.371465,
     "end_time": "2023-09-23T14:06:00.048600",
     "exception": false,
     "start_time": "2023-09-23T14:05:48.677135",
     "status": "completed"
    },
    "tags": []
   },
   "outputs": [
    {
     "name": "stderr",
     "output_type": "stream",
     "text": [
      "/opt/conda/lib/python3.10/site-packages/scipy/__init__.py:146: UserWarning: A NumPy version >=1.16.5 and <1.23.0 is required for this version of SciPy (detected version 1.23.5\n",
      "  warnings.warn(f\"A NumPy version >={np_minversion} and <{np_maxversion}\"\n",
      "/opt/conda/lib/python3.10/site-packages/tensorflow_io/python/ops/__init__.py:98: UserWarning: unable to load libtensorflow_io_plugins.so: unable to open file: libtensorflow_io_plugins.so, from paths: ['/opt/conda/lib/python3.10/site-packages/tensorflow_io/python/ops/libtensorflow_io_plugins.so']\n",
      "caused by: ['/opt/conda/lib/python3.10/site-packages/tensorflow_io/python/ops/libtensorflow_io_plugins.so: undefined symbol: _ZN3tsl6StatusC1EN10tensorflow5error4CodeESt17basic_string_viewIcSt11char_traitsIcEENS_14SourceLocationE']\n",
      "  warnings.warn(f\"unable to load libtensorflow_io_plugins.so: {e}\")\n",
      "/opt/conda/lib/python3.10/site-packages/tensorflow_io/python/ops/__init__.py:104: UserWarning: file system plugins are not loaded: unable to open file: libtensorflow_io.so, from paths: ['/opt/conda/lib/python3.10/site-packages/tensorflow_io/python/ops/libtensorflow_io.so']\n",
      "caused by: ['/opt/conda/lib/python3.10/site-packages/tensorflow_io/python/ops/libtensorflow_io.so: undefined symbol: _ZTVN10tensorflow13GcsFileSystemE']\n",
      "  warnings.warn(f\"file system plugins are not loaded: {e}\")\n"
     ]
    }
   ],
   "source": [
    "import numpy as np\n",
    "import pandas as pd\n",
    "import seaborn as sns\n",
    "import matplotlib.pyplot as plt\n",
    "from sklearn.preprocessing import LabelEncoder\n",
    "from sklearn.preprocessing import MinMaxScaler\n",
    "from sklearn.model_selection import cross_val_score\n",
    "from sklearn.ensemble import RandomForestClassifier\n",
    "from sklearn.linear_model import LogisticRegression\n",
    "from sklearn.tree import DecisionTreeClassifier\n",
    "from sklearn.model_selection import train_test_split\n",
    "from sklearn.metrics import mean_absolute_error,r2_score,mean_squared_error, accuracy_score\n",
    "from sklearn.metrics import classification_report, confusion_matrix, ConfusionMatrixDisplay\n",
    "from sklearn.preprocessing import RobustScaler\n",
    "from tensorflow.keras.layers import Dense, SimpleRNN\n",
    "from tensorflow.keras.models import Sequential\n",
    "from sklearn import metrics\n",
    "import warnings\n",
    "warnings.filterwarnings('ignore')"
   ]
  },
  {
   "cell_type": "code",
   "execution_count": 2,
   "id": "0405e09a",
   "metadata": {
    "execution": {
     "iopub.execute_input": "2023-09-23T14:06:00.073401Z",
     "iopub.status.busy": "2023-09-23T14:06:00.072594Z",
     "iopub.status.idle": "2023-09-23T14:06:16.532484Z",
     "shell.execute_reply": "2023-09-23T14:06:16.531616Z"
    },
    "papermill": {
     "duration": 16.474844,
     "end_time": "2023-09-23T14:06:16.535045",
     "exception": false,
     "start_time": "2023-09-23T14:06:00.060201",
     "status": "completed"
    },
    "tags": []
   },
   "outputs": [
    {
     "data": {
      "text/html": [
       "<div>\n",
       "<style scoped>\n",
       "    .dataframe tbody tr th:only-of-type {\n",
       "        vertical-align: middle;\n",
       "    }\n",
       "\n",
       "    .dataframe tbody tr th {\n",
       "        vertical-align: top;\n",
       "    }\n",
       "\n",
       "    .dataframe thead th {\n",
       "        text-align: right;\n",
       "    }\n",
       "</style>\n",
       "<table border=\"1\" class=\"dataframe\">\n",
       "  <thead>\n",
       "    <tr style=\"text-align: right;\">\n",
       "      <th></th>\n",
       "      <th>Dst Port</th>\n",
       "      <th>Protocol</th>\n",
       "      <th>Timestamp</th>\n",
       "      <th>Flow Duration</th>\n",
       "      <th>Tot Fwd Pkts</th>\n",
       "      <th>Tot Bwd Pkts</th>\n",
       "      <th>TotLen Fwd Pkts</th>\n",
       "      <th>TotLen Bwd Pkts</th>\n",
       "      <th>Fwd Pkt Len Max</th>\n",
       "      <th>Fwd Pkt Len Min</th>\n",
       "      <th>...</th>\n",
       "      <th>Fwd Seg Size Min</th>\n",
       "      <th>Active Mean</th>\n",
       "      <th>Active Std</th>\n",
       "      <th>Active Max</th>\n",
       "      <th>Active Min</th>\n",
       "      <th>Idle Mean</th>\n",
       "      <th>Idle Std</th>\n",
       "      <th>Idle Max</th>\n",
       "      <th>Idle Min</th>\n",
       "      <th>Label</th>\n",
       "    </tr>\n",
       "  </thead>\n",
       "  <tbody>\n",
       "    <tr>\n",
       "      <th>1048570</th>\n",
       "      <td>80</td>\n",
       "      <td>6</td>\n",
       "      <td>14/02/2018 10:53:23</td>\n",
       "      <td>10156986</td>\n",
       "      <td>5</td>\n",
       "      <td>5</td>\n",
       "      <td>1089</td>\n",
       "      <td>1923</td>\n",
       "      <td>587</td>\n",
       "      <td>0</td>\n",
       "      <td>...</td>\n",
       "      <td>20</td>\n",
       "      <td>0.0</td>\n",
       "      <td>0.0</td>\n",
       "      <td>0</td>\n",
       "      <td>0</td>\n",
       "      <td>0.0</td>\n",
       "      <td>0.0</td>\n",
       "      <td>0</td>\n",
       "      <td>0</td>\n",
       "      <td>Benign</td>\n",
       "    </tr>\n",
       "    <tr>\n",
       "      <th>1048571</th>\n",
       "      <td>80</td>\n",
       "      <td>6</td>\n",
       "      <td>14/02/2018 10:53:33</td>\n",
       "      <td>117</td>\n",
       "      <td>2</td>\n",
       "      <td>0</td>\n",
       "      <td>0</td>\n",
       "      <td>0</td>\n",
       "      <td>0</td>\n",
       "      <td>0</td>\n",
       "      <td>...</td>\n",
       "      <td>20</td>\n",
       "      <td>0.0</td>\n",
       "      <td>0.0</td>\n",
       "      <td>0</td>\n",
       "      <td>0</td>\n",
       "      <td>0.0</td>\n",
       "      <td>0.0</td>\n",
       "      <td>0</td>\n",
       "      <td>0</td>\n",
       "      <td>Benign</td>\n",
       "    </tr>\n",
       "    <tr>\n",
       "      <th>1048572</th>\n",
       "      <td>80</td>\n",
       "      <td>6</td>\n",
       "      <td>14/02/2018 10:53:28</td>\n",
       "      <td>5095331</td>\n",
       "      <td>3</td>\n",
       "      <td>1</td>\n",
       "      <td>0</td>\n",
       "      <td>0</td>\n",
       "      <td>0</td>\n",
       "      <td>0</td>\n",
       "      <td>...</td>\n",
       "      <td>20</td>\n",
       "      <td>0.0</td>\n",
       "      <td>0.0</td>\n",
       "      <td>0</td>\n",
       "      <td>0</td>\n",
       "      <td>0.0</td>\n",
       "      <td>0.0</td>\n",
       "      <td>0</td>\n",
       "      <td>0</td>\n",
       "      <td>Benign</td>\n",
       "    </tr>\n",
       "    <tr>\n",
       "      <th>1048573</th>\n",
       "      <td>80</td>\n",
       "      <td>6</td>\n",
       "      <td>14/02/2018 10:53:28</td>\n",
       "      <td>5235511</td>\n",
       "      <td>3</td>\n",
       "      <td>1</td>\n",
       "      <td>0</td>\n",
       "      <td>0</td>\n",
       "      <td>0</td>\n",
       "      <td>0</td>\n",
       "      <td>...</td>\n",
       "      <td>20</td>\n",
       "      <td>0.0</td>\n",
       "      <td>0.0</td>\n",
       "      <td>0</td>\n",
       "      <td>0</td>\n",
       "      <td>0.0</td>\n",
       "      <td>0.0</td>\n",
       "      <td>0</td>\n",
       "      <td>0</td>\n",
       "      <td>Benign</td>\n",
       "    </tr>\n",
       "    <tr>\n",
       "      <th>1048574</th>\n",
       "      <td>443</td>\n",
       "      <td>6</td>\n",
       "      <td>14/02/2018 10:53:28</td>\n",
       "      <td>5807256</td>\n",
       "      <td>6</td>\n",
       "      <td>4</td>\n",
       "      <td>327</td>\n",
       "      <td>145</td>\n",
       "      <td>245</td>\n",
       "      <td>0</td>\n",
       "      <td>...</td>\n",
       "      <td>20</td>\n",
       "      <td>291569.0</td>\n",
       "      <td>0.0</td>\n",
       "      <td>291569</td>\n",
       "      <td>291569</td>\n",
       "      <td>5515650.0</td>\n",
       "      <td>0.0</td>\n",
       "      <td>5515650</td>\n",
       "      <td>5515650</td>\n",
       "      <td>Benign</td>\n",
       "    </tr>\n",
       "  </tbody>\n",
       "</table>\n",
       "<p>5 rows × 80 columns</p>\n",
       "</div>"
      ],
      "text/plain": [
       "         Dst Port  Protocol            Timestamp  Flow Duration  Tot Fwd Pkts  \\\n",
       "1048570        80         6  14/02/2018 10:53:23       10156986             5   \n",
       "1048571        80         6  14/02/2018 10:53:33            117             2   \n",
       "1048572        80         6  14/02/2018 10:53:28        5095331             3   \n",
       "1048573        80         6  14/02/2018 10:53:28        5235511             3   \n",
       "1048574       443         6  14/02/2018 10:53:28        5807256             6   \n",
       "\n",
       "         Tot Bwd Pkts  TotLen Fwd Pkts  TotLen Bwd Pkts  Fwd Pkt Len Max  \\\n",
       "1048570             5             1089             1923              587   \n",
       "1048571             0                0                0                0   \n",
       "1048572             1                0                0                0   \n",
       "1048573             1                0                0                0   \n",
       "1048574             4              327              145              245   \n",
       "\n",
       "         Fwd Pkt Len Min  ...  Fwd Seg Size Min  Active Mean  Active Std  \\\n",
       "1048570                0  ...                20          0.0         0.0   \n",
       "1048571                0  ...                20          0.0         0.0   \n",
       "1048572                0  ...                20          0.0         0.0   \n",
       "1048573                0  ...                20          0.0         0.0   \n",
       "1048574                0  ...                20     291569.0         0.0   \n",
       "\n",
       "         Active Max  Active Min  Idle Mean  Idle Std  Idle Max  Idle Min  \\\n",
       "1048570           0           0        0.0       0.0         0         0   \n",
       "1048571           0           0        0.0       0.0         0         0   \n",
       "1048572           0           0        0.0       0.0         0         0   \n",
       "1048573           0           0        0.0       0.0         0         0   \n",
       "1048574      291569      291569  5515650.0       0.0   5515650   5515650   \n",
       "\n",
       "          Label  \n",
       "1048570  Benign  \n",
       "1048571  Benign  \n",
       "1048572  Benign  \n",
       "1048573  Benign  \n",
       "1048574  Benign  \n",
       "\n",
       "[5 rows x 80 columns]"
      ]
     },
     "execution_count": 2,
     "metadata": {},
     "output_type": "execute_result"
    }
   ],
   "source": [
    "data = pd.read_csv('../input/ids-intrusion-csv/02-14-2018.csv')\n",
    "data.tail()"
   ]
  },
  {
   "cell_type": "code",
   "execution_count": 3,
   "id": "207654f3",
   "metadata": {
    "execution": {
     "iopub.execute_input": "2023-09-23T14:06:16.561205Z",
     "iopub.status.busy": "2023-09-23T14:06:16.560526Z",
     "iopub.status.idle": "2023-09-23T14:06:16.658426Z",
     "shell.execute_reply": "2023-09-23T14:06:16.657368Z"
    },
    "papermill": {
     "duration": 0.113934,
     "end_time": "2023-09-23T14:06:16.660816",
     "exception": false,
     "start_time": "2023-09-23T14:06:16.546882",
     "status": "completed"
    },
    "tags": []
   },
   "outputs": [
    {
     "data": {
      "text/plain": [
       "array(['Benign', 'FTP-BruteForce', 'SSH-Bruteforce'], dtype=object)"
      ]
     },
     "execution_count": 3,
     "metadata": {},
     "output_type": "execute_result"
    }
   ],
   "source": [
    "data['Label'].unique()"
   ]
  },
  {
   "cell_type": "code",
   "execution_count": 4,
   "id": "3ba35d96",
   "metadata": {
    "execution": {
     "iopub.execute_input": "2023-09-23T14:06:16.686753Z",
     "iopub.status.busy": "2023-09-23T14:06:16.686331Z",
     "iopub.status.idle": "2023-09-23T14:06:17.021854Z",
     "shell.execute_reply": "2023-09-23T14:06:17.020767Z"
    },
    "papermill": {
     "duration": 0.352165,
     "end_time": "2023-09-23T14:06:17.025004",
     "exception": false,
     "start_time": "2023-09-23T14:06:16.672839",
     "status": "completed"
    },
    "tags": []
   },
   "outputs": [],
   "source": [
    "\n",
    "data[\"Label\"] = np.where(data[\"Label\"] != \"Benign\", 'malicious','normal')"
   ]
  },
  {
   "cell_type": "code",
   "execution_count": 5,
   "id": "bece94df",
   "metadata": {
    "execution": {
     "iopub.execute_input": "2023-09-23T14:06:17.052707Z",
     "iopub.status.busy": "2023-09-23T14:06:17.052291Z",
     "iopub.status.idle": "2023-09-23T14:06:17.757612Z",
     "shell.execute_reply": "2023-09-23T14:06:17.756474Z"
    },
    "papermill": {
     "duration": 0.721246,
     "end_time": "2023-09-23T14:06:17.760126",
     "exception": false,
     "start_time": "2023-09-23T14:06:17.038880",
     "status": "completed"
    },
    "tags": []
   },
   "outputs": [
    {
     "name": "stdout",
     "output_type": "stream",
     "text": [
      "Index(['Flow Byts/s'], dtype='object')\n"
     ]
    }
   ],
   "source": [
    "\n",
    "print(data.columns[data.isnull().any()])"
   ]
  },
  {
   "cell_type": "code",
   "execution_count": 6,
   "id": "7515b0e5",
   "metadata": {
    "execution": {
     "iopub.execute_input": "2023-09-23T14:06:17.786604Z",
     "iopub.status.busy": "2023-09-23T14:06:17.785930Z",
     "iopub.status.idle": "2023-09-23T14:06:18.831318Z",
     "shell.execute_reply": "2023-09-23T14:06:18.830114Z"
    },
    "papermill": {
     "duration": 1.062123,
     "end_time": "2023-09-23T14:06:18.834344",
     "exception": false,
     "start_time": "2023-09-23T14:06:17.772221",
     "status": "completed"
    },
    "tags": []
   },
   "outputs": [],
   "source": [
    "\n",
    "data = data.dropna(axis=0);"
   ]
  },
  {
   "cell_type": "code",
   "execution_count": 7,
   "id": "55b7144c",
   "metadata": {
    "execution": {
     "iopub.execute_input": "2023-09-23T14:06:18.860382Z",
     "iopub.status.busy": "2023-09-23T14:06:18.859934Z",
     "iopub.status.idle": "2023-09-23T14:06:19.638897Z",
     "shell.execute_reply": "2023-09-23T14:06:19.637679Z"
    },
    "papermill": {
     "duration": 0.796004,
     "end_time": "2023-09-23T14:06:19.642480",
     "exception": false,
     "start_time": "2023-09-23T14:06:18.846476",
     "status": "completed"
    },
    "tags": []
   },
   "outputs": [
    {
     "name": "stdout",
     "output_type": "stream",
     "text": [
      "<class 'pandas.core.frame.DataFrame'>\n",
      "Int64Index: 1046298 entries, 0 to 1048574\n",
      "Data columns (total 80 columns):\n",
      " #   Column             Non-Null Count    Dtype  \n",
      "---  ------             --------------    -----  \n",
      " 0   Dst Port           1046298 non-null  int64  \n",
      " 1   Protocol           1046298 non-null  int64  \n",
      " 2   Timestamp          1046298 non-null  object \n",
      " 3   Flow Duration      1046298 non-null  int64  \n",
      " 4   Tot Fwd Pkts       1046298 non-null  int64  \n",
      " 5   Tot Bwd Pkts       1046298 non-null  int64  \n",
      " 6   TotLen Fwd Pkts    1046298 non-null  int64  \n",
      " 7   TotLen Bwd Pkts    1046298 non-null  int64  \n",
      " 8   Fwd Pkt Len Max    1046298 non-null  int64  \n",
      " 9   Fwd Pkt Len Min    1046298 non-null  int64  \n",
      " 10  Fwd Pkt Len Mean   1046298 non-null  float64\n",
      " 11  Fwd Pkt Len Std    1046298 non-null  float64\n",
      " 12  Bwd Pkt Len Max    1046298 non-null  int64  \n",
      " 13  Bwd Pkt Len Min    1046298 non-null  int64  \n",
      " 14  Bwd Pkt Len Mean   1046298 non-null  float64\n",
      " 15  Bwd Pkt Len Std    1046298 non-null  float64\n",
      " 16  Flow Byts/s        1046298 non-null  float64\n",
      " 17  Flow Pkts/s        1046298 non-null  float64\n",
      " 18  Flow IAT Mean      1046298 non-null  float64\n",
      " 19  Flow IAT Std       1046298 non-null  float64\n",
      " 20  Flow IAT Max       1046298 non-null  int64  \n",
      " 21  Flow IAT Min       1046298 non-null  int64  \n",
      " 22  Fwd IAT Tot        1046298 non-null  int64  \n",
      " 23  Fwd IAT Mean       1046298 non-null  float64\n",
      " 24  Fwd IAT Std        1046298 non-null  float64\n",
      " 25  Fwd IAT Max        1046298 non-null  int64  \n",
      " 26  Fwd IAT Min        1046298 non-null  int64  \n",
      " 27  Bwd IAT Tot        1046298 non-null  int64  \n",
      " 28  Bwd IAT Mean       1046298 non-null  float64\n",
      " 29  Bwd IAT Std        1046298 non-null  float64\n",
      " 30  Bwd IAT Max        1046298 non-null  int64  \n",
      " 31  Bwd IAT Min        1046298 non-null  int64  \n",
      " 32  Fwd PSH Flags      1046298 non-null  int64  \n",
      " 33  Bwd PSH Flags      1046298 non-null  int64  \n",
      " 34  Fwd URG Flags      1046298 non-null  int64  \n",
      " 35  Bwd URG Flags      1046298 non-null  int64  \n",
      " 36  Fwd Header Len     1046298 non-null  int64  \n",
      " 37  Bwd Header Len     1046298 non-null  int64  \n",
      " 38  Fwd Pkts/s         1046298 non-null  float64\n",
      " 39  Bwd Pkts/s         1046298 non-null  float64\n",
      " 40  Pkt Len Min        1046298 non-null  int64  \n",
      " 41  Pkt Len Max        1046298 non-null  int64  \n",
      " 42  Pkt Len Mean       1046298 non-null  float64\n",
      " 43  Pkt Len Std        1046298 non-null  float64\n",
      " 44  Pkt Len Var        1046298 non-null  float64\n",
      " 45  FIN Flag Cnt       1046298 non-null  int64  \n",
      " 46  SYN Flag Cnt       1046298 non-null  int64  \n",
      " 47  RST Flag Cnt       1046298 non-null  int64  \n",
      " 48  PSH Flag Cnt       1046298 non-null  int64  \n",
      " 49  ACK Flag Cnt       1046298 non-null  int64  \n",
      " 50  URG Flag Cnt       1046298 non-null  int64  \n",
      " 51  CWE Flag Count     1046298 non-null  int64  \n",
      " 52  ECE Flag Cnt       1046298 non-null  int64  \n",
      " 53  Down/Up Ratio      1046298 non-null  int64  \n",
      " 54  Pkt Size Avg       1046298 non-null  float64\n",
      " 55  Fwd Seg Size Avg   1046298 non-null  float64\n",
      " 56  Bwd Seg Size Avg   1046298 non-null  float64\n",
      " 57  Fwd Byts/b Avg     1046298 non-null  int64  \n",
      " 58  Fwd Pkts/b Avg     1046298 non-null  int64  \n",
      " 59  Fwd Blk Rate Avg   1046298 non-null  int64  \n",
      " 60  Bwd Byts/b Avg     1046298 non-null  int64  \n",
      " 61  Bwd Pkts/b Avg     1046298 non-null  int64  \n",
      " 62  Bwd Blk Rate Avg   1046298 non-null  int64  \n",
      " 63  Subflow Fwd Pkts   1046298 non-null  int64  \n",
      " 64  Subflow Fwd Byts   1046298 non-null  int64  \n",
      " 65  Subflow Bwd Pkts   1046298 non-null  int64  \n",
      " 66  Subflow Bwd Byts   1046298 non-null  int64  \n",
      " 67  Init Fwd Win Byts  1046298 non-null  int64  \n",
      " 68  Init Bwd Win Byts  1046298 non-null  int64  \n",
      " 69  Fwd Act Data Pkts  1046298 non-null  int64  \n",
      " 70  Fwd Seg Size Min   1046298 non-null  int64  \n",
      " 71  Active Mean        1046298 non-null  float64\n",
      " 72  Active Std         1046298 non-null  float64\n",
      " 73  Active Max         1046298 non-null  int64  \n",
      " 74  Active Min         1046298 non-null  int64  \n",
      " 75  Idle Mean          1046298 non-null  float64\n",
      " 76  Idle Std           1046298 non-null  float64\n",
      " 77  Idle Max           1046298 non-null  int64  \n",
      " 78  Idle Min           1046298 non-null  int64  \n",
      " 79  Label              1046298 non-null  object \n",
      "dtypes: float64(24), int64(54), object(2)\n",
      "memory usage: 646.6+ MB\n"
     ]
    }
   ],
   "source": [
    "data.info()"
   ]
  },
  {
   "cell_type": "code",
   "execution_count": 8,
   "id": "bd41e2dc",
   "metadata": {
    "execution": {
     "iopub.execute_input": "2023-09-23T14:06:19.670924Z",
     "iopub.status.busy": "2023-09-23T14:06:19.670500Z",
     "iopub.status.idle": "2023-09-23T14:06:20.638112Z",
     "shell.execute_reply": "2023-09-23T14:06:20.636931Z"
    },
    "papermill": {
     "duration": 0.985842,
     "end_time": "2023-09-23T14:06:20.641303",
     "exception": false,
     "start_time": "2023-09-23T14:06:19.655461",
     "status": "completed"
    },
    "tags": []
   },
   "outputs": [],
   "source": [
    "\n",
    "le = LabelEncoder()\n",
    "data['Timestamp']=le.fit_transform(data['Timestamp'])\n",
    "data['Label']=le.fit_transform(data['Label'])"
   ]
  },
  {
   "cell_type": "code",
   "execution_count": 9,
   "id": "a81a09d5",
   "metadata": {
    "execution": {
     "iopub.execute_input": "2023-09-23T14:06:20.668114Z",
     "iopub.status.busy": "2023-09-23T14:06:20.667658Z",
     "iopub.status.idle": "2023-09-23T14:06:20.999636Z",
     "shell.execute_reply": "2023-09-23T14:06:20.998164Z"
    },
    "papermill": {
     "duration": 0.349024,
     "end_time": "2023-09-23T14:06:21.002614",
     "exception": false,
     "start_time": "2023-09-23T14:06:20.653590",
     "status": "completed"
    },
    "tags": []
   },
   "outputs": [
    {
     "name": "stdout",
     "output_type": "stream",
     "text": [
      "True\n"
     ]
    }
   ],
   "source": [
    "\n",
    "print(False in np.isfinite(data).values)"
   ]
  },
  {
   "cell_type": "code",
   "execution_count": 10,
   "id": "ae835c3b",
   "metadata": {
    "execution": {
     "iopub.execute_input": "2023-09-23T14:06:21.030279Z",
     "iopub.status.busy": "2023-09-23T14:06:21.029632Z",
     "iopub.status.idle": "2023-09-23T14:06:21.739888Z",
     "shell.execute_reply": "2023-09-23T14:06:21.738511Z"
    },
    "papermill": {
     "duration": 0.726725,
     "end_time": "2023-09-23T14:06:21.742808",
     "exception": false,
     "start_time": "2023-09-23T14:06:21.016083",
     "status": "completed"
    },
    "tags": []
   },
   "outputs": [],
   "source": [
    "\n",
    "data = data[np.isfinite(data).all(1)]"
   ]
  },
  {
   "cell_type": "code",
   "execution_count": 11,
   "id": "96f2cdbe",
   "metadata": {
    "execution": {
     "iopub.execute_input": "2023-09-23T14:06:21.770793Z",
     "iopub.status.busy": "2023-09-23T14:06:21.770376Z",
     "iopub.status.idle": "2023-09-23T14:06:24.326800Z",
     "shell.execute_reply": "2023-09-23T14:06:24.325460Z"
    },
    "papermill": {
     "duration": 2.573364,
     "end_time": "2023-09-23T14:06:24.329559",
     "exception": false,
     "start_time": "2023-09-23T14:06:21.756195",
     "status": "completed"
    },
    "tags": []
   },
   "outputs": [
    {
     "data": {
      "text/html": [
       "<div>\n",
       "<style scoped>\n",
       "    .dataframe tbody tr th:only-of-type {\n",
       "        vertical-align: middle;\n",
       "    }\n",
       "\n",
       "    .dataframe tbody tr th {\n",
       "        vertical-align: top;\n",
       "    }\n",
       "\n",
       "    .dataframe thead th {\n",
       "        text-align: right;\n",
       "    }\n",
       "</style>\n",
       "<table border=\"1\" class=\"dataframe\">\n",
       "  <thead>\n",
       "    <tr style=\"text-align: right;\">\n",
       "      <th></th>\n",
       "      <th>Dst Port</th>\n",
       "      <th>Protocol</th>\n",
       "      <th>Timestamp</th>\n",
       "      <th>Flow Duration</th>\n",
       "      <th>Tot Fwd Pkts</th>\n",
       "      <th>Tot Bwd Pkts</th>\n",
       "      <th>TotLen Fwd Pkts</th>\n",
       "      <th>TotLen Bwd Pkts</th>\n",
       "      <th>Fwd Pkt Len Max</th>\n",
       "      <th>Fwd Pkt Len Min</th>\n",
       "      <th>...</th>\n",
       "      <th>Fwd Seg Size Min</th>\n",
       "      <th>Active Mean</th>\n",
       "      <th>Active Std</th>\n",
       "      <th>Active Max</th>\n",
       "      <th>Active Min</th>\n",
       "      <th>Idle Mean</th>\n",
       "      <th>Idle Std</th>\n",
       "      <th>Idle Max</th>\n",
       "      <th>Idle Min</th>\n",
       "      <th>Label</th>\n",
       "    </tr>\n",
       "  </thead>\n",
       "  <tbody>\n",
       "    <tr>\n",
       "      <th>count</th>\n",
       "      <td>1.044751e+06</td>\n",
       "      <td>1.044751e+06</td>\n",
       "      <td>1.044751e+06</td>\n",
       "      <td>1.044751e+06</td>\n",
       "      <td>1.044751e+06</td>\n",
       "      <td>1.044751e+06</td>\n",
       "      <td>1.044751e+06</td>\n",
       "      <td>1.044751e+06</td>\n",
       "      <td>1.044751e+06</td>\n",
       "      <td>1.044751e+06</td>\n",
       "      <td>...</td>\n",
       "      <td>1.044751e+06</td>\n",
       "      <td>1.044751e+06</td>\n",
       "      <td>1.044751e+06</td>\n",
       "      <td>1.044751e+06</td>\n",
       "      <td>1.044751e+06</td>\n",
       "      <td>1.044751e+06</td>\n",
       "      <td>1.044751e+06</td>\n",
       "      <td>1.044751e+06</td>\n",
       "      <td>1.044751e+06</td>\n",
       "      <td>1.044751e+06</td>\n",
       "    </tr>\n",
       "    <tr>\n",
       "      <th>mean</th>\n",
       "      <td>4.711645e+03</td>\n",
       "      <td>8.115271e+00</td>\n",
       "      <td>1.776855e+04</td>\n",
       "      <td>6.278451e+06</td>\n",
       "      <td>6.222033e+00</td>\n",
       "      <td>7.237526e+00</td>\n",
       "      <td>4.495806e+02</td>\n",
       "      <td>4.538354e+03</td>\n",
       "      <td>1.751610e+02</td>\n",
       "      <td>8.418147e+00</td>\n",
       "      <td>...</td>\n",
       "      <td>2.329159e+01</td>\n",
       "      <td>5.171308e+04</td>\n",
       "      <td>2.143970e+04</td>\n",
       "      <td>8.821327e+04</td>\n",
       "      <td>4.010102e+04</td>\n",
       "      <td>3.112557e+06</td>\n",
       "      <td>7.323927e+05</td>\n",
       "      <td>4.830005e+06</td>\n",
       "      <td>2.134705e+06</td>\n",
       "      <td>6.353744e-01</td>\n",
       "    </tr>\n",
       "    <tr>\n",
       "      <th>std</th>\n",
       "      <td>1.420505e+04</td>\n",
       "      <td>4.466955e+00</td>\n",
       "      <td>9.369674e+03</td>\n",
       "      <td>1.262595e+09</td>\n",
       "      <td>4.455911e+01</td>\n",
       "      <td>1.050590e+02</td>\n",
       "      <td>1.576416e+04</td>\n",
       "      <td>1.517789e+05</td>\n",
       "      <td>2.880300e+02</td>\n",
       "      <td>1.951045e+01</td>\n",
       "      <td>...</td>\n",
       "      <td>1.108023e+01</td>\n",
       "      <td>5.826136e+05</td>\n",
       "      <td>2.190364e+05</td>\n",
       "      <td>7.409056e+05</td>\n",
       "      <td>5.612885e+05</td>\n",
       "      <td>5.424680e+08</td>\n",
       "      <td>3.827015e+08</td>\n",
       "      <td>1.524900e+09</td>\n",
       "      <td>1.820290e+07</td>\n",
       "      <td>4.813253e-01</td>\n",
       "    </tr>\n",
       "    <tr>\n",
       "      <th>min</th>\n",
       "      <td>0.000000e+00</td>\n",
       "      <td>0.000000e+00</td>\n",
       "      <td>0.000000e+00</td>\n",
       "      <td>-9.190110e+11</td>\n",
       "      <td>1.000000e+00</td>\n",
       "      <td>0.000000e+00</td>\n",
       "      <td>0.000000e+00</td>\n",
       "      <td>0.000000e+00</td>\n",
       "      <td>0.000000e+00</td>\n",
       "      <td>0.000000e+00</td>\n",
       "      <td>...</td>\n",
       "      <td>0.000000e+00</td>\n",
       "      <td>0.000000e+00</td>\n",
       "      <td>0.000000e+00</td>\n",
       "      <td>0.000000e+00</td>\n",
       "      <td>0.000000e+00</td>\n",
       "      <td>0.000000e+00</td>\n",
       "      <td>0.000000e+00</td>\n",
       "      <td>0.000000e+00</td>\n",
       "      <td>0.000000e+00</td>\n",
       "      <td>0.000000e+00</td>\n",
       "    </tr>\n",
       "    <tr>\n",
       "      <th>25%</th>\n",
       "      <td>2.200000e+01</td>\n",
       "      <td>6.000000e+00</td>\n",
       "      <td>7.766000e+03</td>\n",
       "      <td>7.000000e+00</td>\n",
       "      <td>1.000000e+00</td>\n",
       "      <td>1.000000e+00</td>\n",
       "      <td>0.000000e+00</td>\n",
       "      <td>0.000000e+00</td>\n",
       "      <td>0.000000e+00</td>\n",
       "      <td>0.000000e+00</td>\n",
       "      <td>...</td>\n",
       "      <td>2.000000e+01</td>\n",
       "      <td>0.000000e+00</td>\n",
       "      <td>0.000000e+00</td>\n",
       "      <td>0.000000e+00</td>\n",
       "      <td>0.000000e+00</td>\n",
       "      <td>0.000000e+00</td>\n",
       "      <td>0.000000e+00</td>\n",
       "      <td>0.000000e+00</td>\n",
       "      <td>0.000000e+00</td>\n",
       "      <td>0.000000e+00</td>\n",
       "    </tr>\n",
       "    <tr>\n",
       "      <th>50%</th>\n",
       "      <td>5.300000e+01</td>\n",
       "      <td>6.000000e+00</td>\n",
       "      <td>2.040100e+04</td>\n",
       "      <td>1.040000e+03</td>\n",
       "      <td>2.000000e+00</td>\n",
       "      <td>1.000000e+00</td>\n",
       "      <td>3.600000e+01</td>\n",
       "      <td>5.600000e+01</td>\n",
       "      <td>3.500000e+01</td>\n",
       "      <td>0.000000e+00</td>\n",
       "      <td>...</td>\n",
       "      <td>2.000000e+01</td>\n",
       "      <td>0.000000e+00</td>\n",
       "      <td>0.000000e+00</td>\n",
       "      <td>0.000000e+00</td>\n",
       "      <td>0.000000e+00</td>\n",
       "      <td>0.000000e+00</td>\n",
       "      <td>0.000000e+00</td>\n",
       "      <td>0.000000e+00</td>\n",
       "      <td>0.000000e+00</td>\n",
       "      <td>1.000000e+00</td>\n",
       "    </tr>\n",
       "    <tr>\n",
       "      <th>75%</th>\n",
       "      <td>4.430000e+02</td>\n",
       "      <td>6.000000e+00</td>\n",
       "      <td>2.589700e+04</td>\n",
       "      <td>4.087895e+05</td>\n",
       "      <td>8.000000e+00</td>\n",
       "      <td>6.000000e+00</td>\n",
       "      <td>4.550000e+02</td>\n",
       "      <td>7.880000e+02</td>\n",
       "      <td>2.010000e+02</td>\n",
       "      <td>0.000000e+00</td>\n",
       "      <td>...</td>\n",
       "      <td>3.200000e+01</td>\n",
       "      <td>0.000000e+00</td>\n",
       "      <td>0.000000e+00</td>\n",
       "      <td>0.000000e+00</td>\n",
       "      <td>0.000000e+00</td>\n",
       "      <td>0.000000e+00</td>\n",
       "      <td>0.000000e+00</td>\n",
       "      <td>0.000000e+00</td>\n",
       "      <td>0.000000e+00</td>\n",
       "      <td>1.000000e+00</td>\n",
       "    </tr>\n",
       "    <tr>\n",
       "      <th>max</th>\n",
       "      <td>6.553300e+04</td>\n",
       "      <td>1.700000e+01</td>\n",
       "      <td>3.204200e+04</td>\n",
       "      <td>1.200000e+08</td>\n",
       "      <td>5.115000e+03</td>\n",
       "      <td>9.198000e+03</td>\n",
       "      <td>8.591554e+06</td>\n",
       "      <td>1.339773e+07</td>\n",
       "      <td>6.444000e+04</td>\n",
       "      <td>1.460000e+03</td>\n",
       "      <td>...</td>\n",
       "      <td>4.800000e+01</td>\n",
       "      <td>1.102401e+08</td>\n",
       "      <td>5.723446e+07</td>\n",
       "      <td>1.102401e+08</td>\n",
       "      <td>1.102401e+08</td>\n",
       "      <td>3.394503e+11</td>\n",
       "      <td>2.432682e+11</td>\n",
       "      <td>9.797810e+11</td>\n",
       "      <td>1.260300e+10</td>\n",
       "      <td>1.000000e+00</td>\n",
       "    </tr>\n",
       "  </tbody>\n",
       "</table>\n",
       "<p>8 rows × 80 columns</p>\n",
       "</div>"
      ],
      "text/plain": [
       "           Dst Port      Protocol     Timestamp  Flow Duration  Tot Fwd Pkts  \\\n",
       "count  1.044751e+06  1.044751e+06  1.044751e+06   1.044751e+06  1.044751e+06   \n",
       "mean   4.711645e+03  8.115271e+00  1.776855e+04   6.278451e+06  6.222033e+00   \n",
       "std    1.420505e+04  4.466955e+00  9.369674e+03   1.262595e+09  4.455911e+01   \n",
       "min    0.000000e+00  0.000000e+00  0.000000e+00  -9.190110e+11  1.000000e+00   \n",
       "25%    2.200000e+01  6.000000e+00  7.766000e+03   7.000000e+00  1.000000e+00   \n",
       "50%    5.300000e+01  6.000000e+00  2.040100e+04   1.040000e+03  2.000000e+00   \n",
       "75%    4.430000e+02  6.000000e+00  2.589700e+04   4.087895e+05  8.000000e+00   \n",
       "max    6.553300e+04  1.700000e+01  3.204200e+04   1.200000e+08  5.115000e+03   \n",
       "\n",
       "       Tot Bwd Pkts  TotLen Fwd Pkts  TotLen Bwd Pkts  Fwd Pkt Len Max  \\\n",
       "count  1.044751e+06     1.044751e+06     1.044751e+06     1.044751e+06   \n",
       "mean   7.237526e+00     4.495806e+02     4.538354e+03     1.751610e+02   \n",
       "std    1.050590e+02     1.576416e+04     1.517789e+05     2.880300e+02   \n",
       "min    0.000000e+00     0.000000e+00     0.000000e+00     0.000000e+00   \n",
       "25%    1.000000e+00     0.000000e+00     0.000000e+00     0.000000e+00   \n",
       "50%    1.000000e+00     3.600000e+01     5.600000e+01     3.500000e+01   \n",
       "75%    6.000000e+00     4.550000e+02     7.880000e+02     2.010000e+02   \n",
       "max    9.198000e+03     8.591554e+06     1.339773e+07     6.444000e+04   \n",
       "\n",
       "       Fwd Pkt Len Min  ...  Fwd Seg Size Min   Active Mean    Active Std  \\\n",
       "count     1.044751e+06  ...      1.044751e+06  1.044751e+06  1.044751e+06   \n",
       "mean      8.418147e+00  ...      2.329159e+01  5.171308e+04  2.143970e+04   \n",
       "std       1.951045e+01  ...      1.108023e+01  5.826136e+05  2.190364e+05   \n",
       "min       0.000000e+00  ...      0.000000e+00  0.000000e+00  0.000000e+00   \n",
       "25%       0.000000e+00  ...      2.000000e+01  0.000000e+00  0.000000e+00   \n",
       "50%       0.000000e+00  ...      2.000000e+01  0.000000e+00  0.000000e+00   \n",
       "75%       0.000000e+00  ...      3.200000e+01  0.000000e+00  0.000000e+00   \n",
       "max       1.460000e+03  ...      4.800000e+01  1.102401e+08  5.723446e+07   \n",
       "\n",
       "         Active Max    Active Min     Idle Mean      Idle Std      Idle Max  \\\n",
       "count  1.044751e+06  1.044751e+06  1.044751e+06  1.044751e+06  1.044751e+06   \n",
       "mean   8.821327e+04  4.010102e+04  3.112557e+06  7.323927e+05  4.830005e+06   \n",
       "std    7.409056e+05  5.612885e+05  5.424680e+08  3.827015e+08  1.524900e+09   \n",
       "min    0.000000e+00  0.000000e+00  0.000000e+00  0.000000e+00  0.000000e+00   \n",
       "25%    0.000000e+00  0.000000e+00  0.000000e+00  0.000000e+00  0.000000e+00   \n",
       "50%    0.000000e+00  0.000000e+00  0.000000e+00  0.000000e+00  0.000000e+00   \n",
       "75%    0.000000e+00  0.000000e+00  0.000000e+00  0.000000e+00  0.000000e+00   \n",
       "max    1.102401e+08  1.102401e+08  3.394503e+11  2.432682e+11  9.797810e+11   \n",
       "\n",
       "           Idle Min         Label  \n",
       "count  1.044751e+06  1.044751e+06  \n",
       "mean   2.134705e+06  6.353744e-01  \n",
       "std    1.820290e+07  4.813253e-01  \n",
       "min    0.000000e+00  0.000000e+00  \n",
       "25%    0.000000e+00  0.000000e+00  \n",
       "50%    0.000000e+00  1.000000e+00  \n",
       "75%    0.000000e+00  1.000000e+00  \n",
       "max    1.260300e+10  1.000000e+00  \n",
       "\n",
       "[8 rows x 80 columns]"
      ]
     },
     "execution_count": 11,
     "metadata": {},
     "output_type": "execute_result"
    }
   ],
   "source": [
    "\n",
    "data.describe()"
   ]
  },
  {
   "cell_type": "markdown",
   "id": "f7539e3a",
   "metadata": {
    "papermill": {
     "duration": 0.012585,
     "end_time": "2023-09-23T14:06:24.355159",
     "exception": false,
     "start_time": "2023-09-23T14:06:24.342574",
     "status": "completed"
    },
    "tags": []
   },
   "source": [
    "### Train Test Split:"
   ]
  },
  {
   "cell_type": "code",
   "execution_count": 12,
   "id": "96dd5786",
   "metadata": {
    "execution": {
     "iopub.execute_input": "2023-09-23T14:06:24.383436Z",
     "iopub.status.busy": "2023-09-23T14:06:24.383037Z",
     "iopub.status.idle": "2023-09-23T14:06:24.835645Z",
     "shell.execute_reply": "2023-09-23T14:06:24.834347Z"
    },
    "papermill": {
     "duration": 0.470148,
     "end_time": "2023-09-23T14:06:24.838704",
     "exception": false,
     "start_time": "2023-09-23T14:06:24.368556",
     "status": "completed"
    },
    "tags": []
   },
   "outputs": [],
   "source": [
    "x = data.drop(['Label'] , axis = 1).values\n",
    "y = data['Label'].values"
   ]
  },
  {
   "cell_type": "code",
   "execution_count": 13,
   "id": "13ccfec7",
   "metadata": {
    "execution": {
     "iopub.execute_input": "2023-09-23T14:06:24.866584Z",
     "iopub.status.busy": "2023-09-23T14:06:24.866184Z",
     "iopub.status.idle": "2023-09-23T14:06:28.010142Z",
     "shell.execute_reply": "2023-09-23T14:06:28.007960Z"
    },
    "papermill": {
     "duration": 3.161782,
     "end_time": "2023-09-23T14:06:28.013482",
     "exception": false,
     "start_time": "2023-09-23T14:06:24.851700",
     "status": "completed"
    },
    "tags": []
   },
   "outputs": [],
   "source": [
    "\n",
    "ro_scaler = RobustScaler()\n",
    "x_scaled = ro_scaler.fit_transform(x)\n",
    "\n",
    "scaler = MinMaxScaler()\n",
    "x_scaled = scaler.fit_transform(x_scaled)"
   ]
  },
  {
   "cell_type": "code",
   "execution_count": 14,
   "id": "aaad105f",
   "metadata": {
    "execution": {
     "iopub.execute_input": "2023-09-23T14:06:28.042746Z",
     "iopub.status.busy": "2023-09-23T14:06:28.042319Z",
     "iopub.status.idle": "2023-09-23T14:06:29.536472Z",
     "shell.execute_reply": "2023-09-23T14:06:29.535206Z"
    },
    "papermill": {
     "duration": 1.511777,
     "end_time": "2023-09-23T14:06:29.539488",
     "exception": false,
     "start_time": "2023-09-23T14:06:28.027711",
     "status": "completed"
    },
    "tags": []
   },
   "outputs": [],
   "source": [
    "x_train , x_test , y_train , y_test = train_test_split(x_scaled, y, test_size= 0.2 , random_state=42)"
   ]
  },
  {
   "cell_type": "code",
   "execution_count": 15,
   "id": "b73db796",
   "metadata": {
    "execution": {
     "iopub.execute_input": "2023-09-23T14:06:29.567671Z",
     "iopub.status.busy": "2023-09-23T14:06:29.567270Z",
     "iopub.status.idle": "2023-09-23T14:06:29.575070Z",
     "shell.execute_reply": "2023-09-23T14:06:29.573778Z"
    },
    "papermill": {
     "duration": 0.025005,
     "end_time": "2023-09-23T14:06:29.577719",
     "exception": false,
     "start_time": "2023-09-23T14:06:29.552714",
     "status": "completed"
    },
    "tags": []
   },
   "outputs": [
    {
     "data": {
      "text/plain": [
       "((835800, 79), (208951, 79))"
      ]
     },
     "execution_count": 15,
     "metadata": {},
     "output_type": "execute_result"
    }
   ],
   "source": [
    "x_train.shape, x_test.shape"
   ]
  },
  {
   "cell_type": "code",
   "execution_count": 16,
   "id": "05212c12",
   "metadata": {
    "execution": {
     "iopub.execute_input": "2023-09-23T14:06:29.605095Z",
     "iopub.status.busy": "2023-09-23T14:06:29.604674Z",
     "iopub.status.idle": "2023-09-23T14:06:29.614222Z",
     "shell.execute_reply": "2023-09-23T14:06:29.612993Z"
    },
    "papermill": {
     "duration": 0.026385,
     "end_time": "2023-09-23T14:06:29.616811",
     "exception": false,
     "start_time": "2023-09-23T14:06:29.590426",
     "status": "completed"
    },
    "tags": []
   },
   "outputs": [],
   "source": [
    "def cross_val(x_train, y_train, model):\n",
    "    accuracies = cross_val_score(estimator = model, X = x_train, y = y_train, cv=5)\n",
    "    return accuracies.mean()\n",
    "\n",
    "def fit_and_evaluate(model, x_train , x_test , y_train , y_test):\n",
    "    model.fit(x_train, y_train)\n",
    "\n",
    "    model_pred = model.predict(x_test)\n",
    "    model_cross = cross_val(x_train, y_train, model)\n",
    "    \n",
    "    return model_cross\n",
    "\n",
    "def run_experiment(model, x_train , x_test , y_train , y_test):\n",
    "    model.fit(x_train, y_train)\n",
    "    y_pred = model.predict(x_test)\n",
    "    print(\"R^2 : \", r2_score(y_test, y_pred))\n",
    "    print(\"MAE :\", mean_absolute_error(y_test,y_pred))\n",
    "    print(\"RMSE:\",np.sqrt(mean_squared_error(y_test, y_pred)))\n",
    "    report=classification_report(y_test,y_pred)\n",
    "    print(report)"
   ]
  },
  {
   "cell_type": "markdown",
   "id": "dd74aecd",
   "metadata": {
    "papermill": {
     "duration": 0.01241,
     "end_time": "2023-09-23T14:06:29.642087",
     "exception": false,
     "start_time": "2023-09-23T14:06:29.629677",
     "status": "completed"
    },
    "tags": []
   },
   "source": [
    "## Logistic Regression:"
   ]
  },
  {
   "cell_type": "code",
   "execution_count": 17,
   "id": "dd4bbf15",
   "metadata": {
    "execution": {
     "iopub.execute_input": "2023-09-23T14:06:29.670230Z",
     "iopub.status.busy": "2023-09-23T14:06:29.669667Z",
     "iopub.status.idle": "2023-09-23T14:08:59.596254Z",
     "shell.execute_reply": "2023-09-23T14:08:59.594470Z"
    },
    "papermill": {
     "duration": 149.944078,
     "end_time": "2023-09-23T14:08:59.599184",
     "exception": false,
     "start_time": "2023-09-23T14:06:29.655106",
     "status": "completed"
    },
    "tags": []
   },
   "outputs": [
    {
     "name": "stdout",
     "output_type": "stream",
     "text": [
      "Logistic Regression Performance on the test set: Cross Validation Score = 0.9994\n",
      "R^2 :  0.9977072320908189\n",
      "MAE : 0.0005312250240487004\n",
      "RMSE: 0.023048319332409042\n",
      "              precision    recall  f1-score   support\n",
      "\n",
      "           0       1.00      1.00      1.00     76206\n",
      "           1       1.00      1.00      1.00    132745\n",
      "\n",
      "    accuracy                           1.00    208951\n",
      "   macro avg       1.00      1.00      1.00    208951\n",
      "weighted avg       1.00      1.00      1.00    208951\n",
      "\n"
     ]
    }
   ],
   "source": [
    "x_traincpy = np.copy(x_train)\n",
    "y_traincpy = np.copy(y_train)\n",
    "x_testcpy = np.copy(x_test)\n",
    "y_testcpy = np.copy(y_test)\n",
    "\n",
    "logr = LogisticRegression()\n",
    "logr_cross = fit_and_evaluate(logr, x_traincpy , x_testcpy , y_traincpy , y_testcpy)\n",
    "\n",
    "print('Logistic Regression Performance on the test set: Cross Validation Score = %0.4f' % logr_cross)\n",
    "\n",
    "model = LogisticRegression()\n",
    "run_experiment(model, x_traincpy , x_testcpy , y_traincpy , y_testcpy)"
   ]
  },
  {
   "cell_type": "code",
   "execution_count": 18,
   "id": "8cce65f0",
   "metadata": {
    "execution": {
     "iopub.execute_input": "2023-09-23T14:08:59.628041Z",
     "iopub.status.busy": "2023-09-23T14:08:59.627606Z",
     "iopub.status.idle": "2023-09-23T14:09:00.092496Z",
     "shell.execute_reply": "2023-09-23T14:09:00.090928Z"
    },
    "papermill": {
     "duration": 0.482225,
     "end_time": "2023-09-23T14:09:00.095296",
     "exception": false,
     "start_time": "2023-09-23T14:08:59.613071",
     "status": "completed"
    },
    "tags": []
   },
   "outputs": [
    {
     "data": {
      "image/png": "[encoded data removed]",
      "text/plain": [
       "<Figure size 640x480 with 2 Axes>"
      ]
     },
     "metadata": {},
     "output_type": "display_data"
    },
    {
     "name": "stdout",
     "output_type": "stream",
     "text": [
      "Accuracy:  0.9994687749759513\n"
     ]
    }
   ],
   "source": [
    "y_pred = model.predict(x_testcpy)\n",
    "cm = confusion_matrix(y_testcpy, y_pred, labels=model.classes_)\n",
    "disp = ConfusionMatrixDisplay(confusion_matrix=cm, display_labels=model.classes_)\n",
    "disp.plot()\n",
    "plt.show()\n",
    "print(\"Accuracy: \", accuracy_score(y_testcpy, y_pred))"
   ]
  },
  {
   "cell_type": "markdown",
   "id": "29a98cac",
   "metadata": {
    "papermill": {
     "duration": 0.01408,
     "end_time": "2023-09-23T14:09:00.123020",
     "exception": false,
     "start_time": "2023-09-23T14:09:00.108940",
     "status": "completed"
    },
    "tags": []
   },
   "source": [
    "## Random Forest:"
   ]
  },
  {
   "cell_type": "code",
   "execution_count": 19,
   "id": "b7d72fe5",
   "metadata": {
    "execution": {
     "iopub.execute_input": "2023-09-23T14:09:00.152091Z",
     "iopub.status.busy": "2023-09-23T14:09:00.151659Z",
     "iopub.status.idle": "2023-09-23T14:10:07.897311Z",
     "shell.execute_reply": "2023-09-23T14:10:07.895733Z"
    },
    "papermill": {
     "duration": 67.776596,
     "end_time": "2023-09-23T14:10:07.913343",
     "exception": false,
     "start_time": "2023-09-23T14:09:00.136747",
     "status": "completed"
    },
    "tags": []
   },
   "outputs": [
    {
     "name": "stdout",
     "output_type": "stream",
     "text": [
      "Random Forest Performance on the test set: Cross Validation Score = 1.0000\n"
     ]
    }
   ],
   "source": [
    "x_traincpy = np.copy(x_train)\n",
    "y_traincpy = np.copy(y_train)\n",
    "x_testcpy = np.copy(x_test)\n",
    "y_testcpy = np.copy(y_test)\n",
    "\n",
    "random = RandomForestClassifier(n_estimators = 10, criterion = 'entropy')\n",
    "random_cross = fit_and_evaluate(random, x_traincpy , x_testcpy , y_traincpy , y_testcpy)\n",
    "\n",
    "print('Random Forest Performance on the test set: Cross Validation Score = %0.4f' % random_cross)"
   ]
  },
  {
   "cell_type": "code",
   "execution_count": 20,
   "id": "9cc5b048",
   "metadata": {
    "execution": {
     "iopub.execute_input": "2023-09-23T14:10:07.943256Z",
     "iopub.status.busy": "2023-09-23T14:10:07.942835Z",
     "iopub.status.idle": "2023-09-23T14:10:08.178882Z",
     "shell.execute_reply": "2023-09-23T14:10:08.177132Z"
    },
    "papermill": {
     "duration": 0.253942,
     "end_time": "2023-09-23T14:10:08.181350",
     "exception": false,
     "start_time": "2023-09-23T14:10:07.927408",
     "status": "completed"
    },
    "tags": []
   },
   "outputs": [
    {
     "name": "stdout",
     "output_type": "stream",
     "text": [
      "Accuracy:  1.0\n"
     ]
    }
   ],
   "source": [
    "y_pred = random.predict(x_testcpy)\n",
    "print(\"Accuracy: \", accuracy_score(y_testcpy, y_pred))"
   ]
  },
  {
   "cell_type": "code",
   "execution_count": 21,
   "id": "4c5f7e32",
   "metadata": {
    "execution": {
     "iopub.execute_input": "2023-09-23T14:10:08.211353Z",
     "iopub.status.busy": "2023-09-23T14:10:08.210631Z",
     "iopub.status.idle": "2023-09-23T14:10:08.534295Z",
     "shell.execute_reply": "2023-09-23T14:10:08.533300Z"
    },
    "papermill": {
     "duration": 0.34146,
     "end_time": "2023-09-23T14:10:08.536602",
     "exception": false,
     "start_time": "2023-09-23T14:10:08.195142",
     "status": "completed"
    },
    "tags": []
   },
   "outputs": [
    {
     "data": {
      "image/png": "[encoded data removed]",
      "text/plain": [
       "<Figure size 640x480 with 2 Axes>"
      ]
     },
     "metadata": {},
     "output_type": "display_data"
    }
   ],
   "source": [
    "cm = confusion_matrix(y_testcpy, y_pred, labels=random.classes_)\n",
    "disp = ConfusionMatrixDisplay(confusion_matrix=cm, display_labels=random.classes_)\n",
    "disp.plot()\n",
    "plt.show()"
   ]
  },
  {
   "cell_type": "markdown",
   "id": "8823672b",
   "metadata": {
    "papermill": {
     "duration": 0.014407,
     "end_time": "2023-09-23T14:10:08.565298",
     "exception": false,
     "start_time": "2023-09-23T14:10:08.550891",
     "status": "completed"
    },
    "tags": []
   },
   "source": [
    "## Decision Tree:"
   ]
  },
  {
   "cell_type": "code",
   "execution_count": 22,
   "id": "3e503a69",
   "metadata": {
    "execution": {
     "iopub.execute_input": "2023-09-23T14:10:08.596541Z",
     "iopub.status.busy": "2023-09-23T14:10:08.595741Z",
     "iopub.status.idle": "2023-09-23T14:10:46.011182Z",
     "shell.execute_reply": "2023-09-23T14:10:46.009791Z"
    },
    "papermill": {
     "duration": 37.447944,
     "end_time": "2023-09-23T14:10:46.027480",
     "exception": false,
     "start_time": "2023-09-23T14:10:08.579536",
     "status": "completed"
    },
    "tags": []
   },
   "outputs": [
    {
     "name": "stdout",
     "output_type": "stream",
     "text": [
      "Decision Tree Performance on the test set: Cross Validation Score = 1.0000\n"
     ]
    }
   ],
   "source": [
    "x_traincpy = np.copy(x_train)\n",
    "y_traincpy = np.copy(y_train)\n",
    "x_testcpy = np.copy(x_test)\n",
    "y_testcpy = np.copy(y_test)\n",
    "\n",
    "DT=DecisionTreeClassifier()\n",
    "DT_cross = fit_and_evaluate(DT, x_traincpy , x_testcpy , y_traincpy , y_testcpy)\n",
    "\n",
    "print('Decision Tree Performance on the test set: Cross Validation Score = %0.4f' % DT_cross)"
   ]
  },
  {
   "cell_type": "code",
   "execution_count": 23,
   "id": "1aa158a9",
   "metadata": {
    "execution": {
     "iopub.execute_input": "2023-09-23T14:10:46.060544Z",
     "iopub.status.busy": "2023-09-23T14:10:46.060118Z",
     "iopub.status.idle": "2023-09-23T14:10:46.124423Z",
     "shell.execute_reply": "2023-09-23T14:10:46.123006Z"
    },
    "papermill": {
     "duration": 0.083875,
     "end_time": "2023-09-23T14:10:46.126811",
     "exception": false,
     "start_time": "2023-09-23T14:10:46.042936",
     "status": "completed"
    },
    "tags": []
   },
   "outputs": [
    {
     "name": "stdout",
     "output_type": "stream",
     "text": [
      "Accuracy:  1.0\n"
     ]
    }
   ],
   "source": [
    "y_pred = DT.predict(x_testcpy)\n",
    "print(\"Accuracy: \", accuracy_score(y_testcpy, y_pred))"
   ]
  },
  {
   "cell_type": "code",
   "execution_count": 24,
   "id": "f63e63be",
   "metadata": {
    "execution": {
     "iopub.execute_input": "2023-09-23T14:10:46.158237Z",
     "iopub.status.busy": "2023-09-23T14:10:46.157829Z",
     "iopub.status.idle": "2023-09-23T14:10:46.467812Z",
     "shell.execute_reply": "2023-09-23T14:10:46.466292Z"
    },
    "papermill": {
     "duration": 0.329169,
     "end_time": "2023-09-23T14:10:46.470757",
     "exception": false,
     "start_time": "2023-09-23T14:10:46.141588",
     "status": "completed"
    },
    "tags": []
   },
   "outputs": [
    {
     "data": {
      "image/png": "[encoded data removed]",
      "text/plain": [
       "<Figure size 640x480 with 2 Axes>"
      ]
     },
     "metadata": {},
     "output_type": "display_data"
    }
   ],
   "source": [
    "cm = confusion_matrix(y_testcpy, y_pred, labels=DT.classes_)\n",
    "disp = ConfusionMatrixDisplay(confusion_matrix=cm, display_labels=DT.classes_)\n",
    "disp.plot()\n",
    "plt.show()"
   ]
  },
  {
   "cell_type": "markdown",
   "id": "4ef954d6",
   "metadata": {
    "papermill": {
     "duration": 0.015517,
     "end_time": "2023-09-23T14:10:46.501879",
     "exception": false,
     "start_time": "2023-09-23T14:10:46.486362",
     "status": "completed"
    },
    "tags": []
   },
   "source": [
    "## RNN:"
   ]
  },
  {
   "cell_type": "code",
   "execution_count": 25,
   "id": "1e6903dc",
   "metadata": {
    "execution": {
     "iopub.execute_input": "2023-09-23T14:10:46.535311Z",
     "iopub.status.busy": "2023-09-23T14:10:46.534009Z",
     "iopub.status.idle": "2023-09-23T14:10:46.813685Z",
     "shell.execute_reply": "2023-09-23T14:10:46.812508Z"
    },
    "papermill": {
     "duration": 0.29963,
     "end_time": "2023-09-23T14:10:46.816799",
     "exception": false,
     "start_time": "2023-09-23T14:10:46.517169",
     "status": "completed"
    },
    "tags": []
   },
   "outputs": [],
   "source": [
    "x_train_srnn = np.copy(x_train)\n",
    "x_test_srnn = np.copy(x_test)\n",
    "y_train_srnn = np.copy(y_train)\n",
    "y_test_srnn = np.copy(y_test)"
   ]
  },
  {
   "cell_type": "code",
   "execution_count": 26,
   "id": "7803e6dc",
   "metadata": {
    "execution": {
     "iopub.execute_input": "2023-09-23T14:10:46.849722Z",
     "iopub.status.busy": "2023-09-23T14:10:46.849347Z",
     "iopub.status.idle": "2023-09-23T14:10:47.267503Z",
     "shell.execute_reply": "2023-09-23T14:10:47.266018Z"
    },
    "papermill": {
     "duration": 0.438289,
     "end_time": "2023-09-23T14:10:47.270392",
     "exception": false,
     "start_time": "2023-09-23T14:10:46.832103",
     "status": "completed"
    },
    "tags": []
   },
   "outputs": [],
   "source": [
    "model = Sequential()\n",
    "model.add(SimpleRNN(units=64, input_shape=(x_train_srnn.shape[1], 1), return_sequences=True))\n",
    "model.add(SimpleRNN(units=64, return_sequences=True))\n",
    "model.add(SimpleRNN(units=64, return_sequences=False))\n",
    "model.add(Dense(units=1, activation='sigmoid'))"
   ]
  },
  {
   "cell_type": "code",
   "execution_count": 27,
   "id": "8f3b12dc",
   "metadata": {
    "execution": {
     "iopub.execute_input": "2023-09-23T14:10:47.302968Z",
     "iopub.status.busy": "2023-09-23T14:10:47.302547Z",
     "iopub.status.idle": "2023-09-23T14:10:47.331694Z",
     "shell.execute_reply": "2023-09-23T14:10:47.330458Z"
    },
    "papermill": {
     "duration": 0.049009,
     "end_time": "2023-09-23T14:10:47.334570",
     "exception": false,
     "start_time": "2023-09-23T14:10:47.285561",
     "status": "completed"
    },
    "tags": []
   },
   "outputs": [
    {
     "name": "stdout",
     "output_type": "stream",
     "text": [
      "Model: \"sequential\"\n",
      "_________________________________________________________________\n",
      " Layer (type)                Output Shape              Param #   \n",
      "=================================================================\n",
      " simple_rnn (SimpleRNN)      (None, 79, 64)            4224      \n",
      "                                                                 \n",
      " simple_rnn_1 (SimpleRNN)    (None, 79, 64)            8256      \n",
      "                                                                 \n",
      " simple_rnn_2 (SimpleRNN)    (None, 64)                8256      \n",
      "                                                                 \n",
      " dense (Dense)               (None, 1)                 65        \n",
      "                                                                 \n",
      "=================================================================\n",
      "Total params: 20,801\n",
      "Trainable params: 20,801\n",
      "Non-trainable params: 0\n",
      "_________________________________________________________________\n"
     ]
    }
   ],
   "source": [
    "model.summary()"
   ]
  },
  {
   "cell_type": "code",
   "execution_count": 28,
   "id": "b4497fa4",
   "metadata": {
    "execution": {
     "iopub.execute_input": "2023-09-23T14:10:47.371012Z",
     "iopub.status.busy": "2023-09-23T14:10:47.370518Z",
     "iopub.status.idle": "2023-09-23T14:10:47.395779Z",
     "shell.execute_reply": "2023-09-23T14:10:47.394252Z"
    },
    "papermill": {
     "duration": 0.047272,
     "end_time": "2023-09-23T14:10:47.398765",
     "exception": false,
     "start_time": "2023-09-23T14:10:47.351493",
     "status": "completed"
    },
    "tags": []
   },
   "outputs": [],
   "source": [
    "model.compile(optimizer='adam', loss='binary_crossentropy', metrics=['accuracy'])"
   ]
  },
  {
   "cell_type": "code",
   "execution_count": 29,
   "id": "0a58ce32",
   "metadata": {
    "execution": {
     "iopub.execute_input": "2023-09-23T14:10:47.434363Z",
     "iopub.status.busy": "2023-09-23T14:10:47.433942Z",
     "iopub.status.idle": "2023-09-23T14:40:13.207852Z",
     "shell.execute_reply": "2023-09-23T14:40:13.206174Z"
    },
    "papermill": {
     "duration": 1765.795003,
     "end_time": "2023-09-23T14:40:13.210684",
     "exception": false,
     "start_time": "2023-09-23T14:10:47.415681",
     "status": "completed"
    },
    "tags": []
   },
   "outputs": [
    {
     "name": "stdout",
     "output_type": "stream",
     "text": [
      "Epoch 1/3\n",
      "6530/6530 [==============================] - 574s 87ms/step - loss: 0.0348 - accuracy: 0.9891 - val_loss: 0.0055 - val_accuracy: 0.9990\n",
      "Epoch 2/3\n",
      "6530/6530 [==============================] - 606s 93ms/step - loss: 0.2754 - accuracy: 0.8257 - val_loss: 0.5541 - val_accuracy: 0.6353\n",
      "Epoch 3/3\n",
      "6530/6530 [==============================] - 575s 88ms/step - loss: 0.4716 - accuracy: 0.6950 - val_loss: 0.0161 - val_accuracy: 0.9972\n"
     ]
    },
    {
     "data": {
      "text/plain": [
       "<matplotlib.legend.Legend at 0x7c0139859b10>"
      ]
     },
     "execution_count": 29,
     "metadata": {},
     "output_type": "execute_result"
    },
    {
     "data": {
      "image/png": "[encoded data removed]",
      "text/plain": [
       "<Figure size 640x480 with 1 Axes>"
      ]
     },
     "metadata": {},
     "output_type": "display_data"
    }
   ],
   "source": [
    "history = model.fit(x_train_srnn.reshape((x_train_srnn.shape[0], x_train_srnn.shape[1], 1)), y_train_srnn, epochs=3, batch_size=128,\n",
    "                    validation_data=(x_test_srnn.reshape((x_test_srnn.shape[0], x_test_srnn.shape[1], 1)), y_test_srnn))\n",
    "import matplotlib.pyplot as plt\n",
    "plt.plot(history.history['loss'], label='Train')\n",
    "plt.plot(history.history['val_loss'], label='Validation')\n",
    "plt.ylabel('Binary Cross Entropy Loss')\n",
    "plt.xlabel('Epoch')\n",
    "plt.title('Autoencoder Reconstruction Loss', pad=13)\n",
    "plt.legend(loc='upper right')"
   ]
  },
  {
   "cell_type": "code",
   "execution_count": 30,
   "id": "6d285c96",
   "metadata": {
    "execution": {
     "iopub.execute_input": "2023-09-23T14:40:17.041040Z",
     "iopub.status.busy": "2023-09-23T14:40:17.040507Z",
     "iopub.status.idle": "2023-09-23T14:42:24.505404Z",
     "shell.execute_reply": "2023-09-23T14:42:24.503693Z"
    },
    "papermill": {
     "duration": 129.370106,
     "end_time": "2023-09-23T14:42:24.508209",
     "exception": false,
     "start_time": "2023-09-23T14:40:15.138103",
     "status": "completed"
    },
    "tags": []
   },
   "outputs": [
    {
     "name": "stdout",
     "output_type": "stream",
     "text": [
      "6530/6530 [==============================] - 124s 19ms/step\n",
      "Accuracy: 0.9972338012261248\n"
     ]
    }
   ],
   "source": [
    "srnn_y_pred = model.predict(x_test_srnn.reshape((x_test_srnn.shape[0], x_test_srnn.shape[1], 1)))\n",
    "srnn_y_pred = (srnn_y_pred > 0.5)\n",
    "print(\"Accuracy:\", accuracy_score(y_test_srnn, srnn_y_pred))"
   ]
  }
 ],
 "metadata": {
  "kernelspec": {
   "display_name": "Python 3",
   "language": "python",
   "name": "python3"
  },
  "language_info": {
   "codemirror_mode": {
    "name": "ipython",
    "version": 3
   },
   "file_extension": ".py",
   "mimetype": "text/x-python",
   "name": "python",
   "nbconvert_exporter": "python",
   "pygments_lexer": "ipython3",
   "version": "3.10.12"
  },
  "papermill": {
   "default_parameters": {},
   "duration": 2213.169025,
   "end_time": "2023-09-23T14:42:29.885927",
   "environment_variables": {},
   "exception": null,
   "input_path": "__notebook__.ipynb",
   "output_path": "__notebook__.ipynb",
   "parameters": {},
   "start_time": "2023-09-23T14:05:36.716902",
   "version": "2.4.0"
  }
 },
 "nbformat": 4,
 "nbformat_minor": 5
}
